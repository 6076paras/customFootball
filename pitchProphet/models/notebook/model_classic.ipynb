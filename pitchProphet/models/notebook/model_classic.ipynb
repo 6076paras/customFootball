{
 "cells": [
  {
   "cell_type": "code",
   "execution_count": null,
   "id": "0",
   "metadata": {},
   "outputs": [],
   "source": [
    "import pickle\n",
    "\n",
    "import numpy\n",
    "import pandas as pd\n",
    "import xgboost as xgb\n",
    "from sklearn.metrics import roc_auc_score\n",
    "from sklearn.model_selection import train_test_split"
   ]
  },
  {
   "cell_type": "code",
   "execution_count": null,
   "id": "1",
   "metadata": {
    "jupyter": {
     "outputs_hidden": true
    }
   },
   "outputs": [],
   "source": [
    "# load sample data\n",
    "path = \"/Users/paraspokharel/Programming/pitchProphet/pitchProphet/data/football_data_uk/Bundesliga_16_17.csv\"\n",
    "data = pd.read_csv(path)\n",
    "data"
   ]
  },
  {
   "cell_type": "code",
   "execution_count": null,
   "id": "2",
   "metadata": {
    "jupyter": {
     "outputs_hidden": true
    }
   },
   "outputs": [],
   "source": [
    "# prepare training data\n",
    "\n",
    "label_map = {\"H\": 0, \"D\": 1, \"A\": 2}\n",
    "x_df = data.drop(columns=[\"HomeTeam\", \"AwayTeam\", \"Date\", \"FTR\"])\n",
    "y_df = data[\"FTR\"].map(label_map)\n",
    "x_train, x_test = train_test_split(x_df, test_size=0.3, random_state=42)\n",
    "y_train, y_test = train_test_split(y_df, test_size=0.3, random_state=42)"
   ]
  },
  {
   "cell_type": "code",
   "execution_count": null,
   "id": "3",
   "metadata": {},
   "outputs": [],
   "source": [
    "# train boost\n",
    "\n",
    "model = xgb.XGBClassifier(\n",
    "    objective=\"multi:softmax\",\n",
    "    num_class=3,\n",
    "    learning_rate=0.1,\n",
    "    max_depth=6,\n",
    "    n_estimators=100,\n",
    ")\n",
    "\n",
    "# Fit the model with early stopping and evaluation metric\n",
    "model.fit(\n",
    "    x_train, y_train, eval_set=[(x_train, y_train), (x_test, y_test)], verbose=False\n",
    ")\n",
    "# TODO: optimize"
   ]
  },
  {
   "cell_type": "code",
   "execution_count": null,
   "id": "4",
   "metadata": {},
   "outputs": [],
   "source": [
    "# evaluate\n",
    "eval_result = model.evals_result()\n",
    "pred_y = model.predict_proba(x_test)\n",
    "auc = roc_auc_score(y_test, pred_y, multi_class=\"ovo\")"
   ]
  },
  {
   "cell_type": "code",
   "execution_count": null,
   "id": "5",
   "metadata": {},
   "outputs": [],
   "source": [
    "# download model (pickle converts to byte stream)\n",
    "pickle.dump(model, open(r\"../xgb_model.pkl\", \"wb\"))"
   ]
  },
  {
   "cell_type": "code",
   "execution_count": null,
   "id": "6",
   "metadata": {},
   "outputs": [],
   "source": []
  }
 ],
 "metadata": {
  "kernelspec": {
   "display_name": "Python 3 (ipykernel)",
   "language": "python",
   "name": "python3"
  },
  "language_info": {
   "codemirror_mode": {
    "name": "ipython",
    "version": 3
   },
   "file_extension": ".py",
   "mimetype": "text/x-python",
   "name": "python",
   "nbconvert_exporter": "python",
   "pygments_lexer": "ipython3",
   "version": "3.13.0"
  }
 },
 "nbformat": 4,
 "nbformat_minor": 5
}
