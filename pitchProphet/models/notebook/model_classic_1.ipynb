{
 "cells": [
  {
   "cell_type": "code",
   "execution_count": 9,
   "id": "caff8ddb-1e78-4165-a6f4-810f291daa97",
   "metadata": {},
   "outputs": [],
   "source": [
    "import pandas as pd\n",
    "import numpy \n",
    "from sklearn.model_selection import train_test_split\n",
    "import xgboost as xgb\n",
    "from sklearn.metrics import roc_auc_score\n",
    "import pickle"
   ]
  },
  {
   "cell_type": "code",
   "execution_count": 50,
   "id": "a898cc57-9558-4992-acd4-7a6395940435",
   "metadata": {
    "scrolled": true
   },
   "outputs": [],
   "source": [
    "# load sample data\n",
    "home_stat = pd.read_csv(\"/Users/paraspokharel/Programming/pitchProphet/pitchProphet/data/pre_processing/processed/home_stats_43rows.csv\")\n",
    "away_stat = pd.read_csv(\"/Users/paraspokharel/Programming/pitchProphet/pitchProphet/data/pre_processing/processed/away_stats_43rows.csv\")\n",
    "match_stat = pd.read_csv(\"/Users/paraspokharel/Programming/pitchProphet/pitchProphet/data/pre_processing/processed/match_info_with_labels_43rows.csv\")\n"
   ]
  },
  {
   "cell_type": "code",
   "execution_count": 54,
   "id": "abee736c-1afd-4e7d-9cc2-3ef01486be7b",
   "metadata": {},
   "outputs": [
    {
     "name": "stdout",
     "output_type": "stream",
     "text": [
      "Index(['Unnamed: 0', 'Gls_mean', 'Gls_std', 'Gls_trend', 'Ast_mean', 'Ast_std',\n",
      "       'Ast_trend', 'PK_mean', 'PK_std', 'PK_trend',\n",
      "       ...\n",
      "       'PrgP_trend', 'Carries_mean', 'Carries_std', 'Carries_trend',\n",
      "       'PrgC_mean', 'PrgC_std', 'PrgC_trend', 'Succ_mean', 'Succ_std',\n",
      "       'Succ_trend'],\n",
      "      dtype='object', length=146)\n",
      "Index(['label'], dtype='object')\n"
     ]
    }
   ],
   "source": [
    "# prepare training data\n",
    "\n",
    "\n",
    "if \"Unnamed: 0\" in home_stat.columns: \n",
    "    home_stat.drop(columns = [\"Unnamed: 0\"], inplace = True)\n",
    "if \"Unnamed: 0\" in away_stat.columns: \n",
    "    away_stat.drop(columns = [\"Unnamed: 0\"], inplace = True)\n",
    "\n",
    "# rename columns\n",
    "home_stat.columns = [\"h\" + col for col in home_stat.columns]\n",
    "away_stat.columns = [\"a\" + col for col in away_stat.columns]\n",
    "x_df = pd.concat([home_stats, away_stats], axis = 1)\n",
    "print(x_df.columns)\n",
    "y_df = match_stat[[\"label\"]]\n",
    "print(y_df.columns)\n",
    "\n",
    "#x_train, x_test = train_test_split(x_df, test_size = 0.3, random_state = 42)\n",
    "#y_train, y_test = train_test_split(y_df, test_size = 0.3, random_state = 42)"
   ]
  },
  {
   "cell_type": "code",
   "execution_count": null,
   "id": "6c1cd208-0413-4f26-8277-599e3d82796e",
   "metadata": {},
   "outputs": [],
   "source": [
    "# train boost\n",
    "\n",
    "model = xgb.XGBClassifier(objective='multi:softmax', num_class=3, learning_rate=0.1, max_depth=6, n_estimators=100)\n",
    "\n",
    "# Fit the model with early stopping and evaluation metric\n",
    "model.fit(x_train, y_train,\n",
    "          eval_set=[(x_train, y_train), (x_test, y_test)],    \n",
    "          verbose=False) \n",
    "# TODO: optimize"
   ]
  },
  {
   "cell_type": "code",
   "execution_count": 2,
   "id": "913de00f-a1b5-42cd-8a40-6f52cceb2a35",
   "metadata": {},
   "outputs": [
    {
     "ename": "NameError",
     "evalue": "name 'model' is not defined",
     "output_type": "error",
     "traceback": [
      "\u001b[0;31m---------------------------------------------------------------------------\u001b[0m",
      "\u001b[0;31mNameError\u001b[0m                                 Traceback (most recent call last)",
      "Cell \u001b[0;32mIn[2], line 2\u001b[0m\n\u001b[1;32m      1\u001b[0m \u001b[38;5;66;03m# evaluate\u001b[39;00m\n\u001b[0;32m----> 2\u001b[0m eval_result \u001b[38;5;241m=\u001b[39m \u001b[43mmodel\u001b[49m\u001b[38;5;241m.\u001b[39mevals_result()\n\u001b[1;32m      3\u001b[0m pred_y \u001b[38;5;241m=\u001b[39m model\u001b[38;5;241m.\u001b[39mpredict_proba(x_test)\n\u001b[1;32m      4\u001b[0m auc \u001b[38;5;241m=\u001b[39m  roc_auc_score(y_test, pred_y, multi_class \u001b[38;5;241m=\u001b[39m \u001b[38;5;124m\"\u001b[39m\u001b[38;5;124movo\u001b[39m\u001b[38;5;124m\"\u001b[39m)\n",
      "\u001b[0;31mNameError\u001b[0m: name 'model' is not defined"
     ]
    }
   ],
   "source": [
    "# evaluate\n",
    "eval_result = model.evals_result()\n",
    "pred_y = model.predict_proba(x_test)\n",
    "auc =  roc_auc_score(y_test, pred_y, multi_class = \"ovo\")"
   ]
  },
  {
   "cell_type": "code",
   "execution_count": null,
   "id": "537b4a9e-f34f-4469-ba2e-f33b3c4c5440",
   "metadata": {},
   "outputs": [],
   "source": [
    "# download model (pickle converts to byte stream)\n",
    "pickle.dump(model, open(r\"../xgb_model.pkl\", \"wb\"))"
   ]
  }
 ],
 "metadata": {
  "kernelspec": {
   "display_name": "Python 3 (ipykernel)",
   "language": "python",
   "name": "python3"
  },
  "language_info": {
   "codemirror_mode": {
    "name": "ipython",
    "version": 3
   },
   "file_extension": ".py",
   "mimetype": "text/x-python",
   "name": "python",
   "nbconvert_exporter": "python",
   "pygments_lexer": "ipython3",
   "version": "3.13.0"
  }
 },
 "nbformat": 4,
 "nbformat_minor": 5
}
