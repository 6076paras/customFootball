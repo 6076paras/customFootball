{
 "cells": [
  {
   "cell_type": "code",
   "execution_count": null,
   "id": "e178c065-5808-4e12-82f7-d50e8f36d843",
   "metadata": {},
   "outputs": [],
   "source": [
    "import matplotlib\n",
    "import numpy\n",
    "import pandas as pd"
   ]
  },
  {
   "cell_type": "code",
   "execution_count": null,
   "id": "6add75f5-c3d0-4c64-80fc-7164683ed898",
   "metadata": {},
   "outputs": [],
   "source": [
    "df = pd.create({\"Number\":np.array(10)})"
   ]
  }
 ],
 "metadata": {
  "kernelspec": {
   "display_name": "Python 3 (ipykernel)",
   "language": "python",
   "name": "python3"
  },
  "language_info": {
   "codemirror_mode": {
    "name": "ipython",
    "version": 3
   },
   "file_extension": ".py",
   "mimetype": "text/x-python",
   "name": "python",
   "nbconvert_exporter": "python",
   "pygments_lexer": "ipython3",
   "version": "3.13.0"
  }
 },
 "nbformat": 4,
 "nbformat_minor": 5
}
